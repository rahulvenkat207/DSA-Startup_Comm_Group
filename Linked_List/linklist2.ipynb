{
 "cells": [
  {
   "cell_type": "code",
   "execution_count": 1,
   "metadata": {},
   "outputs": [
    {
     "name": "stdout",
     "output_type": "stream",
     "text": [
      "In main\n",
      "In dummy\n",
      "In another Dummy\n",
      "After another dummy call\n",
      "After Dummy call\n"
     ]
    }
   ],
   "source": [
    "def call_another_dummy():\n",
    "    a = 30\n",
    "    print(\"In another Dummy\")\n",
    "\n",
    "def call_dummy():\n",
    "    b = 20\n",
    "    print(\"In dummy\")\n",
    "    call_another_dummy()\n",
    "    print(\"After another dummy call\")\n",
    "\n",
    "def main():\n",
    "    c = 10\n",
    "    print(\"In main\")\n",
    "    call_dummy()\n",
    "    print(\"After Dummy call\")\n",
    "\n",
    "if __name__ == '__main__':\n",
    "    main()"
   ]
  },
  {
   "cell_type": "code",
   "execution_count": 6,
   "metadata": {},
   "outputs": [
    {
     "name": "stdout",
     "output_type": "stream",
     "text": [
      "Traversing List:\n",
      "1\n",
      "2\n",
      "3\n",
      "Traversing List with temporary variable:\n",
      "1\n",
      "2\n",
      "3\n"
     ]
    }
   ],
   "source": [
    "class Node:\n",
    "    def __init__(self):\n",
    "        self.id = -1\n",
    "        self.next = None\n",
    "\n",
    "def main():\n",
    "    node1 = Node()\n",
    "    node1.id = 1\n",
    "\n",
    "    node2 = Node()\n",
    "    node2.id = 2\n",
    "\n",
    "    node1.next = node2\n",
    "\n",
    "\n",
    "    node3 = Node()\n",
    "    node3.id = 3\n",
    "\n",
    "    node2.next = node3\n",
    "    print(\"Traversing List:\")\n",
    "    def print_list(node):\n",
    "        while node:\n",
    "            print(node.id)\n",
    "            node = node.next\n",
    "    \n",
    "    print_list(node1)\n",
    "\n",
    "    print(\"Traversing List with temporary variable:\")\n",
    "    def print_list_with_temp_var(node):\n",
    "        temp = node\n",
    "        while temp:\n",
    "            print(temp.id)\n",
    "            temp =temp.next\n",
    "    print_list_with_temp_var(node1)       \n",
    "\n",
    "if __name__ == '__main__':\n",
    "   main()"
   ]
  },
  {
   "cell_type": "code",
   "execution_count": 16,
   "metadata": {},
   "outputs": [
    {
     "name": "stdout",
     "output_type": "stream",
     "text": [
      "Traversing List:\n",
      "1\n",
      "2\n",
      "3\n",
      "4\n"
     ]
    }
   ],
   "source": [
    "class Node:\n",
    "    def __init__(self):\n",
    "        self.id = -1\n",
    "        self.next = None\n",
    "\n",
    "def main():\n",
    "   def add_at_end(head, node):\n",
    "     if head is None:\n",
    "        head = node\n",
    "        \n",
    "     else:\n",
    "        temp = head\n",
    "        while temp.next:\n",
    "           temp = temp.next\n",
    "        temp.next = node\n",
    "     return head\n",
    "   \n",
    "   def create_list(data):\n",
    "      head = None\n",
    "      for val in data:\n",
    "         node = Node()\n",
    "         node.id = val\n",
    "         head = add_at_end(head,node)\n",
    "      return head\n",
    "   \n",
    "   print(\"Traversing List:\")\n",
    "   def print_list(node):\n",
    "        while node:\n",
    "            print(node.id)\n",
    "            node = node.next\n",
    "   \n",
    "   linked_list = create_list([1,2,3,4])\n",
    "   print_list(linked_list)\n",
    "\n",
    "\n",
    "\n",
    "if __name__ == '__main__':\n",
    "    main()"
   ]
  },
  {
   "cell_type": "code",
   "execution_count": 15,
   "metadata": {},
   "outputs": [
    {
     "name": "stdout",
     "output_type": "stream",
     "text": [
      "Traversing List:\n",
      "1\n",
      "2\n",
      "3\n",
      "4\n"
     ]
    }
   ],
   "source": [
    "class Node:\n",
    "    def __init__(self,id = -1):\n",
    "        self.id = id\n",
    "        self.next = None\n",
    "\n",
    "def main():\n",
    "   \n",
    "   def create_list(data):\n",
    "        head = tail = Node(data[0])  # Initialize head and tail with the first node\n",
    "\n",
    "        for val in data[1:]:\n",
    "            node = Node(val)\n",
    "            tail.next = node  # Link new node to the last node\n",
    "            tail = node  # Update tail to the new last node\n",
    "\n",
    "        return head \n",
    "   \n",
    "   print(\"Traversing List:\")\n",
    "   def print_list(node):\n",
    "        while node:\n",
    "            print(node.id)\n",
    "            node = node.next\n",
    "   \n",
    "   linked_list = create_list([1,2,3,4])\n",
    "   print_list(linked_list)\n",
    "\n",
    "\n",
    "\n",
    "if __name__ == '__main__':\n",
    "    main()"
   ]
  },
  {
   "cell_type": "code",
   "execution_count": null,
   "metadata": {},
   "outputs": [],
   "source": []
  }
 ],
 "metadata": {
  "kernelspec": {
   "display_name": "Python 3",
   "language": "python",
   "name": "python3"
  },
  "language_info": {
   "codemirror_mode": {
    "name": "ipython",
    "version": 3
   },
   "file_extension": ".py",
   "mimetype": "text/x-python",
   "name": "python",
   "nbconvert_exporter": "python",
   "pygments_lexer": "ipython3",
   "version": "3.12.4"
  }
 },
 "nbformat": 4,
 "nbformat_minor": 2
}

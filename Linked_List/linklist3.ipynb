{
 "cells": [
  {
   "cell_type": "code",
   "execution_count": null,
   "metadata": {},
   "outputs": [],
   "source": [
    "class Node:\n",
    "    def __init__(self):\n",
    "        self.id = -1\n",
    "        self.next = None\n",
    "\n",
    "def main():\n",
    "    node1 = Node()\n",
    "    node1.id = 1\n",
    "\n",
    "    node2 = Node()\n",
    "    node2.id = 2\n",
    "\n",
    "    node1.next = node2\n",
    "\n",
    "\n",
    "    node3 = Node()\n",
    "    node3.id = 3\n",
    "\n",
    "    node2.next = node3\n",
    "    print(\"Traversing List:\")\n",
    "    def print_list(node):\n",
    "        while node:\n",
    "            print(node.id)\n",
    "            node = node.next\n",
    "    \n",
    "    print_list(node1)\n",
    "\n",
    "    def reverse_print_list(node):\n",
    "        if not node:\n",
    "            return\n",
    "        reverse_print_list(node.next_link)  \n",
    "        print(node.student_id)    \n",
    "\n",
    "if __name__ == '__main__':\n",
    "   main()"
   ]
  }
 ],
 "metadata": {
  "kernelspec": {
   "display_name": "Python 3",
   "language": "python",
   "name": "python3"
  },
  "language_info": {
   "name": "python",
   "version": "3.12.4"
  }
 },
 "nbformat": 4,
 "nbformat_minor": 2
}

{
 "cells": [
  {
   "cell_type": "code",
   "execution_count": 1,
   "metadata": {},
   "outputs": [
    {
     "name": "stdout",
     "output_type": "stream",
     "text": [
      "Node 1(id):2305826970400-->Node2(id):2305826966464\n",
      "Node 2(id):2305826966464-->Node3(id):2305826966704\n",
      "Node 3(id):2305826966704-->Node4(id):2305826972608\n",
      "Node 4(id):2305826966704-->140718929207760\n",
      "Dummy function id: 2305827001248\n"
     ]
    }
   ],
   "source": [
    "class College_Node:\n",
    "    def __init__(self):\n",
    "        self.student_id = 0\n",
    "        self.age = 0\n",
    "        self.next_link = None\n",
    "\n",
    "def dummy_function():\n",
    "    print(\"a dummy function\")\n",
    "\n",
    "\n",
    "def main():\n",
    "\n",
    "    node1 = College_Node()\n",
    "    node1.student_id = 1\n",
    "    node1.age = 19\n",
    "\n",
    "    node2 = College_Node()\n",
    "    node2.student_id = 2\n",
    "    node2.age = 20\n",
    "\n",
    "    node1.next_link = node2\n",
    "\n",
    "    node3 = College_Node()\n",
    "    node3.student_id = 3\n",
    "    node3.age = 21\n",
    "\n",
    "    node2.next_link = node3\n",
    "\n",
    "    node4 = College_Node()\n",
    "    node4.student_id = 2\n",
    "    node4.age = 20\n",
    "\n",
    "    node3.next_link = node4\n",
    "\n",
    "    print(f\"Node 1(id):{id(node1)}-->Node2(id):{id(node1.next_link)}\")\n",
    "    print(f\"Node 2(id):{id(node2)}-->Node3(id):{id(node2.next_link)}\")\n",
    "    print(f\"Node 3(id):{id(node3)}-->Node4(id):{id(node3.next_link)}\")\n",
    "    print(f\"Node 4(id):{id(node3)}-->{id(node4.next_link)}\")\n",
    "    print(f\"Dummy function id: {id(dummy_function)}\")\n",
    "\n",
    "if __name__ == \"__main__\":\n",
    "    main()"
   ]
  },
  {
   "cell_type": "code",
   "execution_count": null,
   "metadata": {},
   "outputs": [],
   "source": []
  }
 ],
 "metadata": {
  "kernelspec": {
   "display_name": "Python 3",
   "language": "python",
   "name": "python3"
  },
  "language_info": {
   "codemirror_mode": {
    "name": "ipython",
    "version": 3
   },
   "file_extension": ".py",
   "mimetype": "text/x-python",
   "name": "python",
   "nbconvert_exporter": "python",
   "pygments_lexer": "ipython3",
   "version": "3.12.4"
  }
 },
 "nbformat": 4,
 "nbformat_minor": 2
}
